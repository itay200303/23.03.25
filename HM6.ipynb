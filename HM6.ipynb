{
 "cells": [
  {
   "cell_type": "code",
   "execution_count": 1,
   "id": "b91b996d-2c20-4be4-883a-51baf61a7a58",
   "metadata": {},
   "outputs": [],
   "source": [
    "import numpy as np\n",
    "from IPython.display import display\n",
    "import pandas as pd"
   ]
  },
  {
   "cell_type": "code",
   "execution_count": 3,
   "id": "67424f09-4dd9-4fc8-b9d0-151ed003fb2c",
   "metadata": {},
   "outputs": [
    {
     "name": "stdout",
     "output_type": "stream",
     "text": [
      "<class 'pandas.core.frame.DataFrame'>\n",
      "RangeIndex: 35 entries, 0 to 34\n",
      "Data columns (total 5 columns):\n",
      " #   Column              Non-Null Count  Dtype \n",
      "---  ------              --------------  ----- \n",
      " 0   Customer Name       35 non-null     object\n",
      " 1   Phone Number        35 non-null     object\n",
      " 2   Talked              35 non-null     int64 \n",
      " 3   Internet            35 non-null     int64 \n",
      " 4   Start Subscription  35 non-null     object\n",
      "dtypes: int64(2), object(3)\n",
      "memory usage: 1.5+ KB\n"
     ]
    },
    {
     "data": {
      "text/plain": [
       "None"
      ]
     },
     "metadata": {},
     "output_type": "display_data"
    },
    {
     "data": {
      "text/html": [
       "<div>\n",
       "<style scoped>\n",
       "    .dataframe tbody tr th:only-of-type {\n",
       "        vertical-align: middle;\n",
       "    }\n",
       "\n",
       "    .dataframe tbody tr th {\n",
       "        vertical-align: top;\n",
       "    }\n",
       "\n",
       "    .dataframe thead th {\n",
       "        text-align: right;\n",
       "    }\n",
       "</style>\n",
       "<table border=\"1\" class=\"dataframe\">\n",
       "  <thead>\n",
       "    <tr style=\"text-align: right;\">\n",
       "      <th></th>\n",
       "      <th>count</th>\n",
       "      <th>mean</th>\n",
       "      <th>std</th>\n",
       "      <th>min</th>\n",
       "      <th>25%</th>\n",
       "      <th>50%</th>\n",
       "      <th>75%</th>\n",
       "      <th>max</th>\n",
       "    </tr>\n",
       "  </thead>\n",
       "  <tbody>\n",
       "    <tr>\n",
       "      <th>Talked</th>\n",
       "      <td>35.0</td>\n",
       "      <td>312.371429</td>\n",
       "      <td>190.701042</td>\n",
       "      <td>24.0</td>\n",
       "      <td>164.0</td>\n",
       "      <td>324.0</td>\n",
       "      <td>477.5</td>\n",
       "      <td>670.0</td>\n",
       "    </tr>\n",
       "    <tr>\n",
       "      <th>Internet</th>\n",
       "      <td>35.0</td>\n",
       "      <td>552.028571</td>\n",
       "      <td>274.154903</td>\n",
       "      <td>91.0</td>\n",
       "      <td>372.0</td>\n",
       "      <td>579.0</td>\n",
       "      <td>806.0</td>\n",
       "      <td>944.0</td>\n",
       "    </tr>\n",
       "  </tbody>\n",
       "</table>\n",
       "</div>"
      ],
      "text/plain": [
       "          count        mean         std   min    25%    50%    75%    max\n",
       "Talked     35.0  312.371429  190.701042  24.0  164.0  324.0  477.5  670.0\n",
       "Internet   35.0  552.028571  274.154903  91.0  372.0  579.0  806.0  944.0"
      ]
     },
     "metadata": {},
     "output_type": "display_data"
    }
   ],
   "source": [
    "df = pd.read_csv(\"mobile2.csv\")\n",
    "display(df.info())\n",
    "display(df.describe().transpose())"
   ]
  },
  {
   "cell_type": "code",
   "execution_count": 33,
   "id": "38b31921-6804-44bc-9839-58c6666adfd1",
   "metadata": {},
   "outputs": [
    {
     "name": "stdout",
     "output_type": "stream",
     "text": [
      "      Customer Name Phone Number  Talked  Internet Start Subscription  \\\n",
      "0   Cynthia Wong MD  050-5380527     231       944         14/09/2022   \n",
      "1         Chad Reed  053-5250617     166       217         28/11/2022   \n",
      "2      James Murphy  051-7292166     483       437         06/04/2021   \n",
      "3         John Dean  054-2952436     435       817         06/01/2021   \n",
      "4      Nancy Bright  052-8402824     208       770         10/10/2022   \n",
      "5      Melinda Ruiz  051-3102790     434       903         23/02/2022   \n",
      "6     Kristin Huber  054-8068151     499       592         18/01/2023   \n",
      "7       Jesus Burke  052-8352627      48       467         19/10/2020   \n",
      "8   Joanna Buchanan  051-3167949     342       919         17/12/2023   \n",
      "9   Christian Lewis  052-3069795     277       740         11/04/2023   \n",
      "10     Amanda Meyer  050-8200916     355       390         03/02/2023   \n",
      "11   Aaron Melendez  050-8270179     553       871         29/01/2023   \n",
      "12    Sierra Morgan  054-6460585     590       614         17/04/2023   \n",
      "13    Timothy Frost  050-5915117     324       429         28/02/2020   \n",
      "14        Keith Lee  052-7653726     256       795         28/10/2022   \n",
      "15   Evelyn Elliott  051-6233404     369       705         17/10/2022   \n",
      "16      Chad Carter  053-9294578      25       350         06/10/2020   \n",
      "17    Matthew Mills  052-7974129     670       571         08/07/2022   \n",
      "18    Jeffrey Hicks  050-8469039     250        99         07/05/2022   \n",
      "19    Janice Palmer  051-8678768     472       105         04/10/2021   \n",
      "20      Diana Scott  051-8932363     134       519         26/04/2021   \n",
      "21      Lacey Henry  051-7222641      58       104         20/06/2023   \n",
      "22    Angela Waters  054-5779698     553       201         19/10/2020   \n",
      "23    Lisa Alvarado  052-1692691     162       389         28/07/2021   \n",
      "24  Jessica Pittman  053-9160566     170       899         23/03/2023   \n",
      "25     Ryan Aguirre  050-4964995     520       372         07/11/2023   \n",
      "26     Alison Moore  050-6467180     105       579         29/11/2020   \n",
      "27     Sarah Martin  051-6973566      24        91         12/04/2023   \n",
      "28  Gregory Stevens  052-7378700      30       858         09/08/2022   \n",
      "29  Jennifer Zavala  053-8258482     591       202         29/06/2020   \n",
      "30     Ryan Aguirre  050-4964995     520       372         07/11/2023   \n",
      "31        John Dean  054-2952436     435       817         06/01/2021   \n",
      "32   Evelyn Elliott  051-6233404     369       705         17/10/2022   \n",
      "33     Alison Moore  050-6467180     105       579         29/11/2020   \n",
      "34  Jessica Pittman  053-9160566     170       899         23/03/2023   \n",
      "\n",
      "   First name First Name    Carrier User Type User Type Vec  \n",
      "0     Cynthia    Cynthia  Pelephone    surfer        surfer  \n",
      "1        Chad       Chad   Motorola    surfer        surfer  \n",
      "2       James      James      Golan    talker        talker  \n",
      "3        John       John    Partner    surfer        surfer  \n",
      "4       Nancy      Nancy    Cellcom    surfer        surfer  \n",
      "5     Melinda    Melinda      Golan    surfer        surfer  \n",
      "6     Kristin    Kristin    Partner    surfer        surfer  \n",
      "7       Jesus      Jesus    Cellcom    surfer        surfer  \n",
      "8      Joanna     Joanna      Golan    surfer        surfer  \n",
      "9   Christian  Christian    Cellcom    surfer        surfer  \n",
      "10     Amanda     Amanda  Pelephone    surfer        surfer  \n",
      "11      Aaron      Aaron  Pelephone    surfer        surfer  \n",
      "12     Sierra     Sierra    Partner    surfer        surfer  \n",
      "13    Timothy    Timothy  Pelephone    surfer        surfer  \n",
      "14      Keith      Keith    Cellcom    surfer        surfer  \n",
      "15     Evelyn     Evelyn      Golan    surfer        surfer  \n",
      "16       Chad       Chad   Motorola    surfer        surfer  \n",
      "17    Matthew    Matthew    Cellcom    talker        talker  \n",
      "18    Jeffrey    Jeffrey  Pelephone    talker        talker  \n",
      "19     Janice     Janice      Golan    talker        talker  \n",
      "20      Diana      Diana      Golan    surfer        surfer  \n",
      "21      Lacey      Lacey      Golan    surfer        surfer  \n",
      "22     Angela     Angela    Partner    talker        talker  \n",
      "23       Lisa       Lisa    Cellcom    surfer        surfer  \n",
      "24    Jessica    Jessica   Motorola    surfer        surfer  \n",
      "25       Ryan       Ryan  Pelephone    talker        talker  \n",
      "26     Alison     Alison  Pelephone    surfer        surfer  \n",
      "27      Sarah      Sarah      Golan    surfer        surfer  \n",
      "28    Gregory    Gregory    Cellcom    surfer        surfer  \n",
      "29   Jennifer   Jennifer   Motorola    talker        talker  \n",
      "30       Ryan       Ryan  Pelephone    talker        talker  \n",
      "31       John       John    Partner    surfer        surfer  \n",
      "32     Evelyn     Evelyn      Golan    surfer        surfer  \n",
      "33     Alison     Alison  Pelephone    surfer        surfer  \n",
      "34    Jessica    Jessica   Motorola    surfer        surfer  \n"
     ]
    }
   ],
   "source": [
    "df['First Name'] = df['Customer Name'].apply(lambda x: x.split()[0])\n",
    "print(df)"
   ]
  },
  {
   "cell_type": "code",
   "execution_count": 37,
   "id": "b6c1e6aa-2954-4d3d-a823-0666f82b17db",
   "metadata": {},
   "outputs": [
    {
     "name": "stdout",
     "output_type": "stream",
     "text": [
      "\n",
      "Carrier Counts:\n",
      " Carrier\n",
      "Pelephone    9\n",
      "Golan        9\n",
      "Cellcom      7\n",
      "Motorola     5\n",
      "Partner      5\n",
      "Name: count, dtype: int64\n"
     ]
    }
   ],
   "source": [
    "carrier_dict = {'050': 'Pelephone', '051': 'Golan', '052': 'Cellcom', '053': 'Motorola', '054': 'Partner'}\n",
    "df['Carrier'] = df['Phone Number'].str[:3].replace(carrier_dict)\n",
    "print(\"Carrier Counts:\", carrier_counts)"
   ]
  },
  {
   "cell_type": "code",
   "execution_count": 41,
   "id": "757c18fa-c2df-410a-88e8-7a6f20bbd9ae",
   "metadata": {},
   "outputs": [
    {
     "name": "stdout",
     "output_type": "stream",
     "text": [
      "Unique Carriers: ['Pelephone' 'Motorola' 'Golan' 'Partner' 'Cellcom']\n"
     ]
    }
   ],
   "source": [
    "carrier_counts = df['Carrier'].value_counts()\n",
    "unique_carriers = df['Carrier'].unique()\n",
    "num_unique_carriers = df['Carrier'].nunique()\n",
    "print(\"Unique Carriers:\", unique_carriers)"
   ]
  },
  {
   "cell_type": "code",
   "execution_count": 23,
   "id": "30d479e6-0e09-40c4-8751-a53aebfd7f09",
   "metadata": {},
   "outputs": [],
   "source": [
    "df['User Type'] = df.apply(lambda row: 'talker' if row['Talked'] > row['Internet'] else 'surfer', axis=1)\n",
    "df['User Type Vec'] = np.where(df['Talked'] > df['Internet'], 'talker', 'surfer')\n",
    "print(\"\\nNumber of Unique Carriers:\", num_unique_carriers)"
   ]
  },
  {
   "cell_type": "code",
   "execution_count": 25,
   "id": "ed873f63-b353-4f89-b3cf-e5c1337d3097",
   "metadata": {},
   "outputs": [],
   "source": [
    "df_sorted_talk = df.sort_values(by='Talked')\n",
    "df_sorted_total = df.sort_values(by=['Talked', 'Internet'])"
   ]
  },
  {
   "cell_type": "code",
   "execution_count": 27,
   "id": "1b0a3223-e9d4-4722-bfab-0f0e825db0cf",
   "metadata": {},
   "outputs": [],
   "source": [
    "top_5_talkers = df.nlargest(5, 'Talked')\n",
    "bottom_3_surfers = df.nsmallest(3, 'Internet')\n",
    "print(\"\\nTop 5 Talkers:\\n\", top_5_talkers)\n",
    "print(\"\\nBottom 3 Surfers:\\n\", bottom_3_surfers)"
   ]
  },
  {
   "cell_type": "code",
   "execution_count": 29,
   "id": "7198389c-7714-424e-a11a-f917821114aa",
   "metadata": {},
   "outputs": [],
   "source": [
    "duplicate_records = df[df.duplicated()]\n",
    "df_no_duplicates = df.drop_duplicates()"
   ]
  },
  {
   "cell_type": "code",
   "execution_count": 31,
   "id": "25e72ae6-162c-464e-a7ff-c76b607933f1",
   "metadata": {},
   "outputs": [],
   "source": [
    "sampled_subscribers = df.sample(3)[['First Name', 'Phone Number']]"
   ]
  },
  {
   "cell_type": "code",
   "execution_count": null,
   "id": "b2ea2c0c-4c30-4e42-a893-552d38c87ff7",
   "metadata": {},
   "outputs": [],
   "source": []
  }
 ],
 "metadata": {
  "kernelspec": {
   "display_name": "Python [conda env:base] *",
   "language": "python",
   "name": "conda-base-py"
  },
  "language_info": {
   "codemirror_mode": {
    "name": "ipython",
    "version": 3
   },
   "file_extension": ".py",
   "mimetype": "text/x-python",
   "name": "python",
   "nbconvert_exporter": "python",
   "pygments_lexer": "ipython3",
   "version": "3.12.7"
  }
 },
 "nbformat": 4,
 "nbformat_minor": 5
}
